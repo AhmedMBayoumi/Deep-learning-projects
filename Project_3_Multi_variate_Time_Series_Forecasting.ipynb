{
  "nbformat": 4,
  "nbformat_minor": 0,
  "metadata": {
    "colab": {
      "provenance": []
    },
    "kernelspec": {
      "name": "python3",
      "display_name": "Python 3"
    },
    "language_info": {
      "name": "python"
    }
  },
  "cells": [
    {
      "cell_type": "code",
      "source": [
        "from google.colab import drive\n",
        "import pandas as pd\n",
        "drive.mount('/content/drive')"
      ],
      "metadata": {
        "colab": {
          "base_uri": "https://localhost:8080/"
        },
        "id": "BV6Msl-rXgR4",
        "outputId": "93905130-d46d-4e97-e863-85f05efa41e4"
      },
      "execution_count": null,
      "outputs": [
        {
          "output_type": "stream",
          "name": "stdout",
          "text": [
            "Mounted at /content/drive\n"
          ]
        }
      ]
    },
    {
      "cell_type": "code",
      "source": [
        "!mkdir ~/.kaggle\n",
        "!cp /content/drive/My\\ Drive/kaggle.json ~/.kaggle/"
      ],
      "metadata": {
        "id": "u26wxjTaXyXI"
      },
      "execution_count": null,
      "outputs": []
    },
    {
      "cell_type": "markdown",
      "source": [
        "# **Project 3-** Multi-variate Time Series Forecasting\n",
        "\n"
      ],
      "metadata": {
        "id": "VoKyh1LhU9u1"
      }
    },
    {
      "cell_type": "code",
      "source": [
        "import numpy as np\n",
        "from tensorflow.keras.models import Sequential\n",
        "from tensorflow.keras.layers import LSTM\n",
        "from tensorflow.keras.layers import Dense, Dropout\n",
        "import pandas as pd\n",
        "from matplotlib import pyplot as plt\n",
        "from sklearn.preprocessing import StandardScaler\n",
        "import seaborn as sns"
      ],
      "metadata": {
        "id": "cafblLRmnLIq"
      },
      "execution_count": null,
      "outputs": []
    },
    {
      "cell_type": "code",
      "source": [
        "df = pd.read_csv('/content/GE.csv')\n",
        "df"
      ],
      "metadata": {
        "id": "5O2UGSx4VDLb",
        "colab": {
          "base_uri": "https://localhost:8080/",
          "height": 424
        },
        "outputId": "51261bee-c649-4ad8-da3a-4cba40d72398"
      },
      "execution_count": null,
      "outputs": [
        {
          "output_type": "execute_result",
          "data": {
            "text/plain": [
              "           Date        Open        High         Low       Close   Adj Close  \\\n",
              "0    2023-04-20   79.249802   80.183556   79.058258   79.616920   79.268036   \n",
              "1    2023-04-21   79.792496   79.872307   79.114128   79.417397   79.069382   \n",
              "2    2023-04-24   79.473267   80.422981   79.473267   79.928169   79.577919   \n",
              "3    2023-04-25   81.364723   81.412613   77.853149   78.563446   78.219170   \n",
              "4    2023-04-26   78.395851   78.571426   76.687950   76.783722   76.447243   \n",
              "..          ...         ...         ...         ...         ...         ...   \n",
              "247  2024-04-15  157.199997  158.690002  152.690002  153.699997  153.699997   \n",
              "248  2024-04-16  152.699997  157.020004  152.000000  156.759995  156.759995   \n",
              "249  2024-04-17  158.000000  158.679993  153.630005  155.669998  155.669998   \n",
              "250  2024-04-18  156.679993  158.000000  152.880005  152.940002  152.940002   \n",
              "251  2024-04-19  153.449997  153.529999  146.779999  148.059998  148.059998   \n",
              "\n",
              "       Volume  \n",
              "0     8661237  \n",
              "1     5112741  \n",
              "2     7833505  \n",
              "3    11649768  \n",
              "4     8032357  \n",
              "..        ...  \n",
              "247   6423700  \n",
              "248   6187200  \n",
              "249   6519900  \n",
              "250   6186600  \n",
              "251   9563800  \n",
              "\n",
              "[252 rows x 7 columns]"
            ],
            "text/html": [
              "\n",
              "  <div id=\"df-8d057190-d3a6-4d63-84eb-5363bf8f427d\" class=\"colab-df-container\">\n",
              "    <div>\n",
              "<style scoped>\n",
              "    .dataframe tbody tr th:only-of-type {\n",
              "        vertical-align: middle;\n",
              "    }\n",
              "\n",
              "    .dataframe tbody tr th {\n",
              "        vertical-align: top;\n",
              "    }\n",
              "\n",
              "    .dataframe thead th {\n",
              "        text-align: right;\n",
              "    }\n",
              "</style>\n",
              "<table border=\"1\" class=\"dataframe\">\n",
              "  <thead>\n",
              "    <tr style=\"text-align: right;\">\n",
              "      <th></th>\n",
              "      <th>Date</th>\n",
              "      <th>Open</th>\n",
              "      <th>High</th>\n",
              "      <th>Low</th>\n",
              "      <th>Close</th>\n",
              "      <th>Adj Close</th>\n",
              "      <th>Volume</th>\n",
              "    </tr>\n",
              "  </thead>\n",
              "  <tbody>\n",
              "    <tr>\n",
              "      <th>0</th>\n",
              "      <td>2023-04-20</td>\n",
              "      <td>79.249802</td>\n",
              "      <td>80.183556</td>\n",
              "      <td>79.058258</td>\n",
              "      <td>79.616920</td>\n",
              "      <td>79.268036</td>\n",
              "      <td>8661237</td>\n",
              "    </tr>\n",
              "    <tr>\n",
              "      <th>1</th>\n",
              "      <td>2023-04-21</td>\n",
              "      <td>79.792496</td>\n",
              "      <td>79.872307</td>\n",
              "      <td>79.114128</td>\n",
              "      <td>79.417397</td>\n",
              "      <td>79.069382</td>\n",
              "      <td>5112741</td>\n",
              "    </tr>\n",
              "    <tr>\n",
              "      <th>2</th>\n",
              "      <td>2023-04-24</td>\n",
              "      <td>79.473267</td>\n",
              "      <td>80.422981</td>\n",
              "      <td>79.473267</td>\n",
              "      <td>79.928169</td>\n",
              "      <td>79.577919</td>\n",
              "      <td>7833505</td>\n",
              "    </tr>\n",
              "    <tr>\n",
              "      <th>3</th>\n",
              "      <td>2023-04-25</td>\n",
              "      <td>81.364723</td>\n",
              "      <td>81.412613</td>\n",
              "      <td>77.853149</td>\n",
              "      <td>78.563446</td>\n",
              "      <td>78.219170</td>\n",
              "      <td>11649768</td>\n",
              "    </tr>\n",
              "    <tr>\n",
              "      <th>4</th>\n",
              "      <td>2023-04-26</td>\n",
              "      <td>78.395851</td>\n",
              "      <td>78.571426</td>\n",
              "      <td>76.687950</td>\n",
              "      <td>76.783722</td>\n",
              "      <td>76.447243</td>\n",
              "      <td>8032357</td>\n",
              "    </tr>\n",
              "    <tr>\n",
              "      <th>...</th>\n",
              "      <td>...</td>\n",
              "      <td>...</td>\n",
              "      <td>...</td>\n",
              "      <td>...</td>\n",
              "      <td>...</td>\n",
              "      <td>...</td>\n",
              "      <td>...</td>\n",
              "    </tr>\n",
              "    <tr>\n",
              "      <th>247</th>\n",
              "      <td>2024-04-15</td>\n",
              "      <td>157.199997</td>\n",
              "      <td>158.690002</td>\n",
              "      <td>152.690002</td>\n",
              "      <td>153.699997</td>\n",
              "      <td>153.699997</td>\n",
              "      <td>6423700</td>\n",
              "    </tr>\n",
              "    <tr>\n",
              "      <th>248</th>\n",
              "      <td>2024-04-16</td>\n",
              "      <td>152.699997</td>\n",
              "      <td>157.020004</td>\n",
              "      <td>152.000000</td>\n",
              "      <td>156.759995</td>\n",
              "      <td>156.759995</td>\n",
              "      <td>6187200</td>\n",
              "    </tr>\n",
              "    <tr>\n",
              "      <th>249</th>\n",
              "      <td>2024-04-17</td>\n",
              "      <td>158.000000</td>\n",
              "      <td>158.679993</td>\n",
              "      <td>153.630005</td>\n",
              "      <td>155.669998</td>\n",
              "      <td>155.669998</td>\n",
              "      <td>6519900</td>\n",
              "    </tr>\n",
              "    <tr>\n",
              "      <th>250</th>\n",
              "      <td>2024-04-18</td>\n",
              "      <td>156.679993</td>\n",
              "      <td>158.000000</td>\n",
              "      <td>152.880005</td>\n",
              "      <td>152.940002</td>\n",
              "      <td>152.940002</td>\n",
              "      <td>6186600</td>\n",
              "    </tr>\n",
              "    <tr>\n",
              "      <th>251</th>\n",
              "      <td>2024-04-19</td>\n",
              "      <td>153.449997</td>\n",
              "      <td>153.529999</td>\n",
              "      <td>146.779999</td>\n",
              "      <td>148.059998</td>\n",
              "      <td>148.059998</td>\n",
              "      <td>9563800</td>\n",
              "    </tr>\n",
              "  </tbody>\n",
              "</table>\n",
              "<p>252 rows × 7 columns</p>\n",
              "</div>\n",
              "    <div class=\"colab-df-buttons\">\n",
              "\n",
              "  <div class=\"colab-df-container\">\n",
              "    <button class=\"colab-df-convert\" onclick=\"convertToInteractive('df-8d057190-d3a6-4d63-84eb-5363bf8f427d')\"\n",
              "            title=\"Convert this dataframe to an interactive table.\"\n",
              "            style=\"display:none;\">\n",
              "\n",
              "  <svg xmlns=\"http://www.w3.org/2000/svg\" height=\"24px\" viewBox=\"0 -960 960 960\">\n",
              "    <path d=\"M120-120v-720h720v720H120Zm60-500h600v-160H180v160Zm220 220h160v-160H400v160Zm0 220h160v-160H400v160ZM180-400h160v-160H180v160Zm440 0h160v-160H620v160ZM180-180h160v-160H180v160Zm440 0h160v-160H620v160Z\"/>\n",
              "  </svg>\n",
              "    </button>\n",
              "\n",
              "  <style>\n",
              "    .colab-df-container {\n",
              "      display:flex;\n",
              "      gap: 12px;\n",
              "    }\n",
              "\n",
              "    .colab-df-convert {\n",
              "      background-color: #E8F0FE;\n",
              "      border: none;\n",
              "      border-radius: 50%;\n",
              "      cursor: pointer;\n",
              "      display: none;\n",
              "      fill: #1967D2;\n",
              "      height: 32px;\n",
              "      padding: 0 0 0 0;\n",
              "      width: 32px;\n",
              "    }\n",
              "\n",
              "    .colab-df-convert:hover {\n",
              "      background-color: #E2EBFA;\n",
              "      box-shadow: 0px 1px 2px rgba(60, 64, 67, 0.3), 0px 1px 3px 1px rgba(60, 64, 67, 0.15);\n",
              "      fill: #174EA6;\n",
              "    }\n",
              "\n",
              "    .colab-df-buttons div {\n",
              "      margin-bottom: 4px;\n",
              "    }\n",
              "\n",
              "    [theme=dark] .colab-df-convert {\n",
              "      background-color: #3B4455;\n",
              "      fill: #D2E3FC;\n",
              "    }\n",
              "\n",
              "    [theme=dark] .colab-df-convert:hover {\n",
              "      background-color: #434B5C;\n",
              "      box-shadow: 0px 1px 3px 1px rgba(0, 0, 0, 0.15);\n",
              "      filter: drop-shadow(0px 1px 2px rgba(0, 0, 0, 0.3));\n",
              "      fill: #FFFFFF;\n",
              "    }\n",
              "  </style>\n",
              "\n",
              "    <script>\n",
              "      const buttonEl =\n",
              "        document.querySelector('#df-8d057190-d3a6-4d63-84eb-5363bf8f427d button.colab-df-convert');\n",
              "      buttonEl.style.display =\n",
              "        google.colab.kernel.accessAllowed ? 'block' : 'none';\n",
              "\n",
              "      async function convertToInteractive(key) {\n",
              "        const element = document.querySelector('#df-8d057190-d3a6-4d63-84eb-5363bf8f427d');\n",
              "        const dataTable =\n",
              "          await google.colab.kernel.invokeFunction('convertToInteractive',\n",
              "                                                    [key], {});\n",
              "        if (!dataTable) return;\n",
              "\n",
              "        const docLinkHtml = 'Like what you see? Visit the ' +\n",
              "          '<a target=\"_blank\" href=https://colab.research.google.com/notebooks/data_table.ipynb>data table notebook</a>'\n",
              "          + ' to learn more about interactive tables.';\n",
              "        element.innerHTML = '';\n",
              "        dataTable['output_type'] = 'display_data';\n",
              "        await google.colab.output.renderOutput(dataTable, element);\n",
              "        const docLink = document.createElement('div');\n",
              "        docLink.innerHTML = docLinkHtml;\n",
              "        element.appendChild(docLink);\n",
              "      }\n",
              "    </script>\n",
              "  </div>\n",
              "\n",
              "\n",
              "<div id=\"df-8289fdc4-669e-4b28-90f8-52404cd53779\">\n",
              "  <button class=\"colab-df-quickchart\" onclick=\"quickchart('df-8289fdc4-669e-4b28-90f8-52404cd53779')\"\n",
              "            title=\"Suggest charts\"\n",
              "            style=\"display:none;\">\n",
              "\n",
              "<svg xmlns=\"http://www.w3.org/2000/svg\" height=\"24px\"viewBox=\"0 0 24 24\"\n",
              "     width=\"24px\">\n",
              "    <g>\n",
              "        <path d=\"M19 3H5c-1.1 0-2 .9-2 2v14c0 1.1.9 2 2 2h14c1.1 0 2-.9 2-2V5c0-1.1-.9-2-2-2zM9 17H7v-7h2v7zm4 0h-2V7h2v10zm4 0h-2v-4h2v4z\"/>\n",
              "    </g>\n",
              "</svg>\n",
              "  </button>\n",
              "\n",
              "<style>\n",
              "  .colab-df-quickchart {\n",
              "      --bg-color: #E8F0FE;\n",
              "      --fill-color: #1967D2;\n",
              "      --hover-bg-color: #E2EBFA;\n",
              "      --hover-fill-color: #174EA6;\n",
              "      --disabled-fill-color: #AAA;\n",
              "      --disabled-bg-color: #DDD;\n",
              "  }\n",
              "\n",
              "  [theme=dark] .colab-df-quickchart {\n",
              "      --bg-color: #3B4455;\n",
              "      --fill-color: #D2E3FC;\n",
              "      --hover-bg-color: #434B5C;\n",
              "      --hover-fill-color: #FFFFFF;\n",
              "      --disabled-bg-color: #3B4455;\n",
              "      --disabled-fill-color: #666;\n",
              "  }\n",
              "\n",
              "  .colab-df-quickchart {\n",
              "    background-color: var(--bg-color);\n",
              "    border: none;\n",
              "    border-radius: 50%;\n",
              "    cursor: pointer;\n",
              "    display: none;\n",
              "    fill: var(--fill-color);\n",
              "    height: 32px;\n",
              "    padding: 0;\n",
              "    width: 32px;\n",
              "  }\n",
              "\n",
              "  .colab-df-quickchart:hover {\n",
              "    background-color: var(--hover-bg-color);\n",
              "    box-shadow: 0 1px 2px rgba(60, 64, 67, 0.3), 0 1px 3px 1px rgba(60, 64, 67, 0.15);\n",
              "    fill: var(--button-hover-fill-color);\n",
              "  }\n",
              "\n",
              "  .colab-df-quickchart-complete:disabled,\n",
              "  .colab-df-quickchart-complete:disabled:hover {\n",
              "    background-color: var(--disabled-bg-color);\n",
              "    fill: var(--disabled-fill-color);\n",
              "    box-shadow: none;\n",
              "  }\n",
              "\n",
              "  .colab-df-spinner {\n",
              "    border: 2px solid var(--fill-color);\n",
              "    border-color: transparent;\n",
              "    border-bottom-color: var(--fill-color);\n",
              "    animation:\n",
              "      spin 1s steps(1) infinite;\n",
              "  }\n",
              "\n",
              "  @keyframes spin {\n",
              "    0% {\n",
              "      border-color: transparent;\n",
              "      border-bottom-color: var(--fill-color);\n",
              "      border-left-color: var(--fill-color);\n",
              "    }\n",
              "    20% {\n",
              "      border-color: transparent;\n",
              "      border-left-color: var(--fill-color);\n",
              "      border-top-color: var(--fill-color);\n",
              "    }\n",
              "    30% {\n",
              "      border-color: transparent;\n",
              "      border-left-color: var(--fill-color);\n",
              "      border-top-color: var(--fill-color);\n",
              "      border-right-color: var(--fill-color);\n",
              "    }\n",
              "    40% {\n",
              "      border-color: transparent;\n",
              "      border-right-color: var(--fill-color);\n",
              "      border-top-color: var(--fill-color);\n",
              "    }\n",
              "    60% {\n",
              "      border-color: transparent;\n",
              "      border-right-color: var(--fill-color);\n",
              "    }\n",
              "    80% {\n",
              "      border-color: transparent;\n",
              "      border-right-color: var(--fill-color);\n",
              "      border-bottom-color: var(--fill-color);\n",
              "    }\n",
              "    90% {\n",
              "      border-color: transparent;\n",
              "      border-bottom-color: var(--fill-color);\n",
              "    }\n",
              "  }\n",
              "</style>\n",
              "\n",
              "  <script>\n",
              "    async function quickchart(key) {\n",
              "      const quickchartButtonEl =\n",
              "        document.querySelector('#' + key + ' button');\n",
              "      quickchartButtonEl.disabled = true;  // To prevent multiple clicks.\n",
              "      quickchartButtonEl.classList.add('colab-df-spinner');\n",
              "      try {\n",
              "        const charts = await google.colab.kernel.invokeFunction(\n",
              "            'suggestCharts', [key], {});\n",
              "      } catch (error) {\n",
              "        console.error('Error during call to suggestCharts:', error);\n",
              "      }\n",
              "      quickchartButtonEl.classList.remove('colab-df-spinner');\n",
              "      quickchartButtonEl.classList.add('colab-df-quickchart-complete');\n",
              "    }\n",
              "    (() => {\n",
              "      let quickchartButtonEl =\n",
              "        document.querySelector('#df-8289fdc4-669e-4b28-90f8-52404cd53779 button');\n",
              "      quickchartButtonEl.style.display =\n",
              "        google.colab.kernel.accessAllowed ? 'block' : 'none';\n",
              "    })();\n",
              "  </script>\n",
              "</div>\n",
              "    </div>\n",
              "  </div>\n"
            ],
            "application/vnd.google.colaboratory.intrinsic+json": {
              "type": "dataframe",
              "variable_name": "df",
              "summary": "{\n  \"name\": \"df\",\n  \"rows\": 252,\n  \"fields\": [\n    {\n      \"column\": \"Date\",\n      \"properties\": {\n        \"dtype\": \"object\",\n        \"num_unique_values\": 252,\n        \"samples\": [\n          \"2023-12-14\",\n          \"2023-04-28\",\n          \"2023-09-28\"\n        ],\n        \"semantic_type\": \"\",\n        \"description\": \"\"\n      }\n    },\n    {\n      \"column\": \"Open\",\n      \"properties\": {\n        \"dtype\": \"number\",\n        \"std\": 19.7897574274489,\n        \"min\": 77.430168,\n        \"max\": 158.0,\n        \"num_unique_values\": 244,\n        \"samples\": [\n          80.925781,\n          77.51796,\n          95.371109\n        ],\n        \"semantic_type\": \"\",\n        \"description\": \"\"\n      }\n    },\n    {\n      \"column\": \"High\",\n      \"properties\": {\n        \"dtype\": \"number\",\n        \"std\": 20.294350526727772,\n        \"min\": 78.36393,\n        \"max\": 158.690002,\n        \"num_unique_values\": 248,\n        \"samples\": [\n          85.658417,\n          79.584999,\n          103.631287\n        ],\n        \"semantic_type\": \"\",\n        \"description\": \"\"\n      }\n    },\n    {\n      \"column\": \"Low\",\n      \"properties\": {\n        \"dtype\": \"number\",\n        \"std\": 19.38394843304738,\n        \"min\": 76.68795,\n        \"max\": 154.75,\n        \"num_unique_values\": 239,\n        \"samples\": [\n          79.736633,\n          77.318436,\n          90.981644\n        ],\n        \"semantic_type\": \"\",\n        \"description\": \"\"\n      }\n    },\n    {\n      \"column\": \"Close\",\n      \"properties\": {\n        \"dtype\": \"number\",\n        \"std\": 19.92132541926256,\n        \"min\": 76.783722,\n        \"max\": 157.679993,\n        \"num_unique_values\": 241,\n        \"samples\": [\n          81.021545,\n          78.986435,\n          138.459702\n        ],\n        \"semantic_type\": \"\",\n        \"description\": \"\"\n      }\n    },\n    {\n      \"column\": \"Adj Close\",\n      \"properties\": {\n        \"dtype\": \"number\",\n        \"std\": 19.965086751548295,\n        \"min\": 76.447243,\n        \"max\": 157.399994,\n        \"num_unique_values\": 245,\n        \"samples\": [\n          80.666496,\n          78.640312,\n          95.373665\n        ],\n        \"semantic_type\": \"\",\n        \"description\": \"\"\n      }\n    },\n    {\n      \"column\": \"Volume\",\n      \"properties\": {\n        \"dtype\": \"number\",\n        \"std\": 2925841,\n        \"min\": 1981995,\n        \"max\": 21329067,\n        \"num_unique_values\": 251,\n        \"samples\": [\n          10174611,\n          6279159,\n          5506309\n        ],\n        \"semantic_type\": \"\",\n        \"description\": \"\"\n      }\n    }\n  ]\n}"
            }
          },
          "metadata": {},
          "execution_count": 4
        }
      ]
    },
    {
      "cell_type": "code",
      "source": [
        "df_date =  pd.to_datetime(df['Date'])\n",
        "df_train = df.drop(columns=['Date'])"
      ],
      "metadata": {
        "id": "RoLzVCplm9mZ"
      },
      "execution_count": null,
      "outputs": []
    },
    {
      "cell_type": "code",
      "source": [
        "scaler = StandardScaler()\n",
        "df_train = scaler.fit_transform(df_train)\n",
        "df_train"
      ],
      "metadata": {
        "colab": {
          "base_uri": "https://localhost:8080/"
        },
        "id": "JKzLJNOdomap",
        "outputId": "34b0d643-6fad-4556-f82c-12449d7fc0d9"
      },
      "execution_count": null,
      "outputs": [
        {
          "output_type": "execute_result",
          "data": {
            "text/plain": [
              "array([[-1.01498383, -1.00024983, -0.99735778, -0.99853348, -1.00043708,\n",
              "         0.70045746],\n",
              "       [-0.98750629, -1.01561708, -0.99446976, -1.00856896, -1.01040695,\n",
              "        -0.51476829],\n",
              "       [-1.00366941, -0.98842873, -0.97590524, -0.98287847, -0.98488494,\n",
              "         0.41699053],\n",
              "       ...,\n",
              "       [ 2.97227651,  2.87534347,  2.85738569,  2.82673547,  2.83395677,\n",
              "        -0.03286952],\n",
              "       [ 2.90544224,  2.84177028,  2.81861688,  2.68942389,  2.69694616,\n",
              "        -0.14701217],\n",
              "       [ 2.74190189,  2.62107356,  2.50329695,  2.44397257,  2.45203285,\n",
              "         1.00955117]])"
            ]
          },
          "metadata": {},
          "execution_count": 7
        }
      ]
    },
    {
      "cell_type": "code",
      "source": [
        "X_train = []\n",
        "y_train = []\n",
        "future = 1\n",
        "past = 14\n",
        "for i in range(past,len(df_train)+1 - future):\n",
        "    X_train.append(df_train[i-past: i,0:df_train.shape[1]])\n",
        "    y_train.append(df_train[i+future-1:i+future,0])\n",
        "\n",
        "X_train, y_train = np.array(X_train), np.array(y_train)"
      ],
      "metadata": {
        "id": "c7W9hJhPskJP"
      },
      "execution_count": null,
      "outputs": []
    },
    {
      "cell_type": "code",
      "source": [
        "y_train.shape"
      ],
      "metadata": {
        "colab": {
          "base_uri": "https://localhost:8080/"
        },
        "id": "c9qCJhwfy2jQ",
        "outputId": "e4d551a0-179e-40c2-fd77-84725099f3a0"
      },
      "execution_count": null,
      "outputs": [
        {
          "output_type": "execute_result",
          "data": {
            "text/plain": [
              "(238, 1)"
            ]
          },
          "metadata": {},
          "execution_count": 13
        }
      ]
    },
    {
      "cell_type": "code",
      "source": [
        "model = Sequential()\n",
        "model.add(LSTM(64, activation='relu', input_shape=(X_train.shape[1], X_train.shape[2]), return_sequences=True))\n",
        "model.add(LSTM(32, activation='relu', return_sequences=False))\n",
        "model.add(Dropout(0.2))\n",
        "model.add(Dense(y_train.shape[1]))\n",
        "\n",
        "model.compile(optimizer='adam', loss='mse', metrics=['acc'])\n",
        "model.summary()\n",
        "\n",
        "# fit the model\n",
        "history = model.fit(X_train, y_train, epochs=10, batch_size=16, validation_split=0.1, verbose=1)"
      ],
      "metadata": {
        "colab": {
          "base_uri": "https://localhost:8080/"
        },
        "id": "_tjevc-xuaQV",
        "outputId": "8132eb3a-9ba7-4ee6-9b5a-78eca94c5344"
      },
      "execution_count": null,
      "outputs": [
        {
          "output_type": "stream",
          "name": "stdout",
          "text": [
            "Model: \"sequential_2\"\n",
            "_________________________________________________________________\n",
            " Layer (type)                Output Shape              Param #   \n",
            "=================================================================\n",
            " lstm_4 (LSTM)               (None, 14, 64)            18176     \n",
            "                                                                 \n",
            " lstm_5 (LSTM)               (None, 32)                12416     \n",
            "                                                                 \n",
            " dropout_2 (Dropout)         (None, 32)                0         \n",
            "                                                                 \n",
            " dense_1 (Dense)             (None, 1)                 33        \n",
            "                                                                 \n",
            "=================================================================\n",
            "Total params: 30625 (119.63 KB)\n",
            "Trainable params: 30625 (119.63 KB)\n",
            "Non-trainable params: 0 (0.00 Byte)\n",
            "_________________________________________________________________\n",
            "Epoch 1/10\n",
            "14/14 [==============================] - 4s 54ms/step - loss: 0.3722 - acc: 0.0000e+00 - val_loss: 0.2666 - val_acc: 0.0000e+00\n",
            "Epoch 2/10\n",
            "14/14 [==============================] - 0s 16ms/step - loss: 0.1065 - acc: 0.0000e+00 - val_loss: 3.7781 - val_acc: 0.0000e+00\n",
            "Epoch 3/10\n",
            "14/14 [==============================] - 0s 16ms/step - loss: 0.0621 - acc: 0.0000e+00 - val_loss: 2.3107 - val_acc: 0.0000e+00\n",
            "Epoch 4/10\n",
            "14/14 [==============================] - 0s 18ms/step - loss: 0.0370 - acc: 0.0000e+00 - val_loss: 10.7421 - val_acc: 0.0000e+00\n",
            "Epoch 5/10\n",
            "14/14 [==============================] - 0s 16ms/step - loss: 0.0292 - acc: 0.0000e+00 - val_loss: 2.9487 - val_acc: 0.0000e+00\n",
            "Epoch 6/10\n",
            "14/14 [==============================] - 0s 15ms/step - loss: 0.0327 - acc: 0.0000e+00 - val_loss: 2.7078 - val_acc: 0.0000e+00\n",
            "Epoch 7/10\n",
            "14/14 [==============================] - 0s 15ms/step - loss: 0.0291 - acc: 0.0000e+00 - val_loss: 2.2637 - val_acc: 0.0000e+00\n",
            "Epoch 8/10\n",
            "14/14 [==============================] - 0s 16ms/step - loss: 0.0283 - acc: 0.0000e+00 - val_loss: 1.1379 - val_acc: 0.0000e+00\n",
            "Epoch 9/10\n",
            "14/14 [==============================] - 0s 16ms/step - loss: 0.0260 - acc: 0.0000e+00 - val_loss: 1.9656 - val_acc: 0.0000e+00\n",
            "Epoch 10/10\n",
            "14/14 [==============================] - 0s 14ms/step - loss: 0.0270 - acc: 0.0000e+00 - val_loss: 0.8663 - val_acc: 0.0000e+00\n"
          ]
        }
      ]
    },
    {
      "cell_type": "code",
      "source": [
        "predicted_values = []\n",
        "\n",
        "# Predict each day starting from day 15\n",
        "for i in range(0, len(X_train)):\n",
        "    X_pred = X_train[i].reshape((1, X_train.shape[1], X_train.shape[2]))\n",
        "    predicted_value = model.predict(X_pred)\n",
        "    predicted_values.append(predicted_value)\n",
        "\n",
        "# Convert list of predictions to numpy array\n",
        "predicted_values = np.array(predicted_values)"
      ],
      "metadata": {
        "id": "cUjthJcU40Q6"
      },
      "execution_count": null,
      "outputs": []
    },
    {
      "cell_type": "code",
      "source": [
        "print('Predicted: ',(predicted_values)[5:10])\n",
        "print('y_train: ',(y_train)[5:10])"
      ],
      "metadata": {
        "colab": {
          "base_uri": "https://localhost:8080/"
        },
        "id": "5tZ8sP7o5HXL",
        "outputId": "2c7abe1e-bdd5-480e-b50d-d17a82cbed35"
      },
      "execution_count": null,
      "outputs": [
        {
          "output_type": "stream",
          "name": "stdout",
          "text": [
            "Predicted:  [[[-0.89563686]]\n",
            "\n",
            " [[-0.8889375 ]]\n",
            "\n",
            " [[-0.8746963 ]]\n",
            "\n",
            " [[-0.8608282 ]]\n",
            "\n",
            " [[-0.8434057 ]]]\n",
            "y_train:  [[-0.91113416]\n",
            " [-0.86991779]\n",
            " [-0.80405196]\n",
            " [-0.82102357]\n",
            " [-0.83072138]]\n"
          ]
        }
      ]
    },
    {
      "cell_type": "code",
      "source": [
        "comparison = np.abs(predicted_values - y_train)  # y_train starts from index 14\n",
        "\n",
        "# Calculate mean absolute error\n",
        "mae = np.mean(comparison)\n",
        "\n",
        "print(\"Mean Absolute Error:\", mae)"
      ],
      "metadata": {
        "colab": {
          "base_uri": "https://localhost:8080/"
        },
        "id": "nZSWxOfm6RqR",
        "outputId": "800282a5-4cfd-4cdc-fe0b-9f353242733b"
      },
      "execution_count": null,
      "outputs": [
        {
          "output_type": "stream",
          "name": "stdout",
          "text": [
            "Mean Absolute Error: 1.0476522807089723\n"
          ]
        }
      ]
    }
  ]
}